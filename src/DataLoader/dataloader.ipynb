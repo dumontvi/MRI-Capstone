{
  "nbformat": 4,
  "nbformat_minor": 0,
  "metadata": {
    "colab": {
      "name": "CapstoneLib",
      "provenance": [],
      "machine_shape": "hm"
    },
    "kernelspec": {
      "name": "python3",
      "display_name": "Python 3"
    },
    "accelerator": "TPU"
  },
  "cells": [
    {
      "cell_type": "code",
      "metadata": {
        "id": "A6o0bL7DiSEB",
        "colab_type": "code",
        "outputId": "beb0d44e-0a19-4a94-a17a-624edbc574c3",
        "colab": {
          "base_uri": "https://localhost:8080/",
          "height": 55
        }
      },
      "source": [
        "from google.colab import drive\n",
        "drive.mount('/content/drive')\n"
      ],
      "execution_count": 0,
      "outputs": [
        {
          "output_type": "stream",
          "text": [
            "Drive already mounted at /content/drive; to attempt to forcibly remount, call drive.mount(\"/content/drive\", force_remount=True).\n"
          ],
          "name": "stdout"
        }
      ]
    },
    {
      "cell_type": "code",
      "metadata": {
        "id": "EEqaH4L1tJx6",
        "colab_type": "code",
        "colab": {}
      },
      "source": [
        "%matplotlib inline\n",
        "\n",
        "import h5py\n",
        "import numpy as np\n",
        "from matplotlib import pyplot as plt\n",
        "import pathlib\n",
        "import warnings\n",
        "import torch"
      ],
      "execution_count": 0,
      "outputs": []
    },
    {
      "cell_type": "markdown",
      "metadata": {
        "id": "tgGCFq7YYwt8",
        "colab_type": "text"
      },
      "source": [
        "# Data Loader"
      ]
    },
    {
      "cell_type": "code",
      "metadata": {
        "id": "EGFoun0gAz-X",
        "colab_type": "code",
        "colab": {}
      },
      "source": [
        "class DataLoader():\n",
        "  def load_data(self, directory, num_images):\n",
        "    fnames = dataloader.load_files(directory)\n",
        "    sorted_files = sorted(fnames)\n",
        "    files_to_read = sorted_files[:num_images]\n",
        "    kspace, target = dataloader.get_kspace_esc(files_to_read)\n",
        "\n",
        "    return kspace, target\n",
        "\n",
        "  def load_files(self, directory):\n",
        "    file_list = []\n",
        "    folders = list(pathlib.Path(directory).iterdir())\n",
        "    for folder_name in sorted(folders):\n",
        "      files = list(pathlib.Path(folder_name).iterdir())\n",
        "      file_list += files\n",
        "\n",
        "    return file_list\n",
        "  \n",
        "  def get_kspace_esc(self, files):\n",
        "    kspace = []\n",
        "    reconstructed = []\n",
        "    count = 1\n",
        "    for fname in sorted(files):\n",
        "      with h5py.File(fname, 'r') as data:\n",
        "        for i in range(len(data['kspace'])):\n",
        "          kspace.append(data['kspace'][i])\n",
        "          reconstructed.append(data['reconstruction_esc'][i] if 'reconstruction_esc' in data else None)\n",
        "\n",
        "    return kspace, reconstructed\n",
        "\n",
        "  def show_slices(self, kspace, target):\n",
        "    warnings.warn('Please do not try to visualize too many slices ( < 100)')\n",
        "    kspace_abs = [np.log(np.abs(k) + 1e-9) for k in kspace]\n",
        "    for i, x in enumerate(zip(kspace_abs, target)):\n",
        "        fig, axes = plt.subplots(nrows=1, ncols=2, figsize=(8, 6))\n",
        "        axes[0].imshow(x[0])\n",
        "        axes[1].imshow(x[1], cmap='gray')\n",
        "        axes[0].set_title(\"k-space slice \" + str(i))\n",
        "        axes[1].set_title(\"image slice \" + str(i))\n",
        "        fig.tight_layout()"
      ],
      "execution_count": 0,
      "outputs": []
    },
    {
      "cell_type": "markdown",
      "metadata": {
        "id": "gfH17SsVaskV",
        "colab_type": "text"
      },
      "source": [
        "# @375"
      ]
    },
    {
      "cell_type": "code",
      "metadata": {
        "id": "UAvOcQb4avT2",
        "colab_type": "code",
        "colab": {}
      },
      "source": [
        "# peep https://papers.nips.cc/paper/8451-cascaded-dilated-dense-network-with-two-step-data-consistency-for-mri-reconstruction\n",
        "# both the main paper + the supplemental"
      ],
      "execution_count": 0,
      "outputs": []
    }
  ]
}